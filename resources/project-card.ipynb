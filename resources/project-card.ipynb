{
 "cells": [
  {
   "cell_type": "markdown",
   "metadata": {},
   "source": [
    "---\n",
    "title:  Project Card\n",
    "subtitle: v0.1\n",
    "author: Soma S Dhavala\n",
    "date: 05-Aug-2025\n",
    "format:\n",
    "    html:\n",
    "        code-fold: true\n",
    "---"
   ]
  },
  {
   "cell_type": "markdown",
   "metadata": {},
   "source": [
    "The purpose of Project Cards is two folds. During development, it helps the developer think about the problem in a structured way w.r. t framing the problem, assessing the business value, viability, and many other aspects. \n",
    "\n",
    "It can also serve as a document giving a high level overview of the system developed and deployed. With proper versioning, one can also see the evolution of the problem. It is meant to be a high level document and as details emerge, documents such Model Cards and Data Cards can be linked. \n",
    "\n",
    "The following are the different section of the Project Cards."
   ]
  },
  {
   "cell_type": "markdown",
   "metadata": {},
   "source": [
    "# Business View"
   ]
  },
  {
   "cell_type": "markdown",
   "metadata": {},
   "source": [
    "## Background\n",
    "Provide succinct **background** to the problem so that the reader can empathize with the problem."
   ]
  },
  {
   "cell_type": "markdown",
   "metadata": {},
   "source": [
    "## Problem\n",
    "**What** is the problem being solved?"
   ]
  },
  {
   "cell_type": "markdown",
   "metadata": {},
   "source": [
    "## Customer\n",
    "**Who** it is for? Is that a _user_ or a _beneficiary_?\n",
    "What is the problem being solved? Who it is for?"
   ]
  },
  {
   "cell_type": "markdown",
   "metadata": {},
   "source": [
    "## Value Proposition\n",
    "Why it needs to be solved?"
   ]
  },
  {
   "cell_type": "markdown",
   "metadata": {},
   "source": [
    "## Product\n",
    "How does the solution look like? It is more of the experience, rather how it will be developed."
   ]
  },
  {
   "cell_type": "markdown",
   "metadata": {},
   "source": [
    "## Objectives\n",
    "Breakdown the product into key (business) objectives that need to be delivered?\n",
    "[SMART Goals](https://med.stanford.edu/content/dam/sm/s-spire/documents/How-to-write-SMART-Goals-v2.pdf) is useful to frame"
   ]
  },
  {
   "cell_type": "markdown",
   "metadata": {},
   "source": [
    "## Risks & Challenges\n",
    "What are the challenges one can face and ways to overcome?"
   ]
  },
  {
   "cell_type": "markdown",
   "metadata": {},
   "source": [
    "# ML View"
   ]
  },
  {
   "cell_type": "markdown",
   "metadata": {},
   "source": [
    "## Task\n",
    "What type of prediction problem is this? Link [Model Card](https://arxiv.org/abs/1810.03993) when sufficient details become available (start small but early)"
   ]
  },
  {
   "cell_type": "markdown",
   "metadata": {},
   "source": [
    "## Metrics\n",
    "How will the solution be evaluated - What are the ML metrics? What are the business metrics? Link [Model Card](https://arxiv.org/abs/1810.03993) when sufficient details become available (start small but early)"
   ]
  },
  {
   "cell_type": "markdown",
   "metadata": {},
   "source": [
    "## Evaluation\n",
    "How will the solution be evaluated (process)? Link [Model Card](https://arxiv.org/abs/1810.03993) when sufficient details become available (start small but early)"
   ]
  },
  {
   "cell_type": "markdown",
   "metadata": {},
   "source": [
    "## Data\n",
    "What type of data is needed? How will it be collected - for training and for continuous improvement? Link  [Data Cards](https://arxiv.org/abs/2204.01075) when sufficient details become available (start small but early)"
   ]
  },
  {
   "cell_type": "markdown",
   "metadata": {},
   "source": [
    "## Plan/ Roadmap\n",
    "Provide problem break-up, tentative timelines and deliverables? Use [PACT](https://nesslabs.com/smart-goals-pact) formate if SMART is not suitable."
   ]
  },
  {
   "cell_type": "markdown",
   "metadata": {},
   "source": [
    "## Continous Improvement\n",
    "How will the system/model will improve? Provide a plan and means."
   ]
  },
  {
   "cell_type": "markdown",
   "metadata": {},
   "source": [
    "## Resources\n",
    "### Human Resources\n",
    "what type of team and strength needed?\n",
    "\n",
    "### Compute Resources\n",
    "what type of compute resources needed to train and serve?"
   ]
  }
 ],
 "metadata": {
  "language_info": {
   "name": "python"
  }
 },
 "nbformat": 4,
 "nbformat_minor": 2
}
